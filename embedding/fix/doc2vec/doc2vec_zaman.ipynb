{
 "cells": [
  {
   "cell_type": "code",
   "execution_count": 1,
   "metadata": {},
   "outputs": [
    {
     "data": {
      "text/html": [
       "<div>\n",
       "<style scoped>\n",
       "    .dataframe tbody tr th:only-of-type {\n",
       "        vertical-align: middle;\n",
       "    }\n",
       "\n",
       "    .dataframe tbody tr th {\n",
       "        vertical-align: top;\n",
       "    }\n",
       "\n",
       "    .dataframe thead th {\n",
       "        text-align: right;\n",
       "    }\n",
       "</style>\n",
       "<table border=\"1\" class=\"dataframe\">\n",
       "  <thead>\n",
       "    <tr style=\"text-align: right;\">\n",
       "      <th></th>\n",
       "      <th>text</th>\n",
       "      <th>label</th>\n",
       "    </tr>\n",
       "  </thead>\n",
       "  <tbody>\n",
       "    <tr>\n",
       "      <th>0</th>\n",
       "      <td>japon sahil istihkȃm beyaz bayrak dalga yarın ...</td>\n",
       "      <td>1945-1962</td>\n",
       "    </tr>\n",
       "    <tr>\n",
       "      <th>1</th>\n",
       "      <td>çekici bir tesiri olacağı muhak ittifak demokr...</td>\n",
       "      <td>1945-1962</td>\n",
       "    </tr>\n",
       "    <tr>\n",
       "      <th>2</th>\n",
       "      <td>iki parti ton arpa satıl kilometre mesafe şam ...</td>\n",
       "      <td>1945-1962</td>\n",
       "    </tr>\n",
       "    <tr>\n",
       "      <th>3</th>\n",
       "      <td>tomruk işin şikȃyette bulunduğunu şikȃyeti gen...</td>\n",
       "      <td>1945-1962</td>\n",
       "    </tr>\n",
       "    <tr>\n",
       "      <th>4</th>\n",
       "      <td>mevzua müteal iş yap tak vesika teklif mektup ...</td>\n",
       "      <td>1945-1962</td>\n",
       "    </tr>\n",
       "  </tbody>\n",
       "</table>\n",
       "</div>"
      ],
      "text/plain": [
       "                                                text      label\n",
       "0  japon sahil istihkȃm beyaz bayrak dalga yarın ...  1945-1962\n",
       "1  çekici bir tesiri olacağı muhak ittifak demokr...  1945-1962\n",
       "2  iki parti ton arpa satıl kilometre mesafe şam ...  1945-1962\n",
       "3  tomruk işin şikȃyette bulunduğunu şikȃyeti gen...  1945-1962\n",
       "4  mevzua müteal iş yap tak vesika teklif mektup ...  1945-1962"
      ]
     },
     "execution_count": 1,
     "metadata": {},
     "output_type": "execute_result"
    }
   ],
   "source": [
    "import pandas as pd\n",
    "data = pd.read_excel(\"../../../db/clean_fix_zaman.xlsx\")\n",
    "data.head()"
   ]
  },
  {
   "cell_type": "code",
   "execution_count": 2,
   "metadata": {},
   "outputs": [],
   "source": [
    "data = data.dropna()"
   ]
  },
  {
   "cell_type": "code",
   "execution_count": 3,
   "metadata": {},
   "outputs": [
    {
     "name": "stdout",
     "output_type": "stream",
     "text": [
      "<class 'pandas.core.frame.DataFrame'>\n",
      "Int64Index: 1988 entries, 0 to 1999\n",
      "Data columns (total 2 columns):\n",
      " #   Column  Non-Null Count  Dtype \n",
      "---  ------  --------------  ----- \n",
      " 0   text    1988 non-null   object\n",
      " 1   label   1988 non-null   object\n",
      "dtypes: object(2)\n",
      "memory usage: 46.6+ KB\n"
     ]
    }
   ],
   "source": [
    "data.info()"
   ]
  },
  {
   "cell_type": "code",
   "execution_count": 4,
   "metadata": {},
   "outputs": [
    {
     "data": {
      "text/plain": [
       "0       [japon, sahil, istihkȃm, beyaz, bayrak, dalga,...\n",
       "1       [çekici, bir, tesiri, olacağı, muhak, ittifak,...\n",
       "2       [iki, parti, ton, arpa, satıl, kilometre, mesa...\n",
       "3       [tomruk, işin, şikȃyette, bulunduğunu, şikȃyet...\n",
       "4       [mevzua, müteal, iş, yap, tak, vesika, teklif,...\n",
       "                              ...                        \n",
       "1995    [olma, ülke, demokra, büyük, güvencesi, akp, m...\n",
       "1996    [yapıyor, mese, reha, baş, türban, başörtü, ol...\n",
       "1997    [arazi, üzerine, evini, yapıyor, yi, kaçak, ya...\n",
       "1998    [bil, bakanlığın, türkiye, adalet, bakanlığı, ...\n",
       "1999    [des, istedi, bunun, üzerine, mustafa, sarıgül...\n",
       "Name: text, Length: 1988, dtype: object"
      ]
     },
     "execution_count": 4,
     "metadata": {},
     "output_type": "execute_result"
    }
   ],
   "source": [
    "import gensim\n",
    "review_text = data.text.apply(gensim.utils.simple_preprocess)\n",
    "review_text"
   ]
  },
  {
   "cell_type": "code",
   "execution_count": 5,
   "metadata": {},
   "outputs": [],
   "source": [
    "from gensim.models.doc2vec import TaggedDocument\n",
    "class TaggedDocumentIterator(object):\n",
    "    def __init__(self, doc_list, labels_list):\n",
    "        self.labels_list = labels_list\n",
    "        self.doc_list = doc_list\n",
    "    def __iter__(self):\n",
    "        for idx, doc in enumerate(self.doc_list):\n",
    "            yield TaggedDocument(words=doc, tags=[self.labels_list[idx]])\n",
    " \n",
    "docLabels = data.label.tolist()\n",
    "data_text = review_text.tolist()\n",
    "sentences = TaggedDocumentIterator(data_text, docLabels)"
   ]
  },
  {
   "cell_type": "code",
   "execution_count": 6,
   "metadata": {},
   "outputs": [],
   "source": [
    "model = gensim.models.Doc2Vec(\n",
    "    vector_size=100,\n",
    "    window=10,\n",
    "    min_count=2,\n",
    "    alpha=0.025,\n",
    "    workers=11,\n",
    "    epochs=20\n",
    ")"
   ]
  },
  {
   "cell_type": "code",
   "execution_count": 7,
   "metadata": {},
   "outputs": [],
   "source": [
    "model.build_vocab(sentences)"
   ]
  },
  {
   "cell_type": "code",
   "execution_count": 8,
   "metadata": {},
   "outputs": [
    {
     "data": {
      "text/plain": [
       "20"
      ]
     },
     "execution_count": 8,
     "metadata": {},
     "output_type": "execute_result"
    }
   ],
   "source": [
    "model.epochs"
   ]
  },
  {
   "cell_type": "code",
   "execution_count": 9,
   "metadata": {},
   "outputs": [],
   "source": [
    "model.train(sentences,total_examples=model.corpus_count,epochs=model.epochs)"
   ]
  },
  {
   "cell_type": "code",
   "execution_count": 10,
   "metadata": {},
   "outputs": [],
   "source": [
    "model.save(\"d2v_fix_zaman.doc2vec\")"
   ]
  },
  {
   "cell_type": "code",
   "execution_count": 11,
   "metadata": {},
   "outputs": [],
   "source": [
    "from gensim.models.doc2vec import Doc2Vec\n",
    "\n",
    "model = Doc2Vec.load(\"d2v_fix_zaman.doc2vec\")"
   ]
  },
  {
   "cell_type": "code",
   "execution_count": 12,
   "metadata": {},
   "outputs": [
    {
     "data": {
      "text/plain": [
       "[('soyulmuştur', 0.8899698853492737),\n",
       " ('sobas', 0.889490008354187),\n",
       " ('av', 0.8795365691184998),\n",
       " ('karbonmonoksit', 0.8775160312652588),\n",
       " ('otu', 0.8662716746330261),\n",
       " ('balıkçı', 0.8656870722770691),\n",
       " ('kamyona', 0.8593723773956299),\n",
       " ('hır', 0.855924129486084),\n",
       " ('küçükçekmece', 0.8554834127426147),\n",
       " ('seyyar', 0.8553655743598938)]"
      ]
     },
     "execution_count": 12,
     "metadata": {},
     "output_type": "execute_result"
    }
   ],
   "source": [
    "model.wv.most_similar(\"zehir\")"
   ]
  },
  {
   "cell_type": "code",
   "execution_count": 13,
   "metadata": {},
   "outputs": [
    {
     "data": {
      "text/plain": [
       "1.0"
      ]
     },
     "execution_count": 13,
     "metadata": {},
     "output_type": "execute_result"
    }
   ],
   "source": [
    "model.wv.similarity(\"reha\",\"reha\")"
   ]
  },
  {
   "cell_type": "code",
   "execution_count": 14,
   "metadata": {},
   "outputs": [
    {
     "data": {
      "text/plain": [
       "0.23734817"
      ]
     },
     "execution_count": 14,
     "metadata": {},
     "output_type": "execute_result"
    }
   ],
   "source": [
    "model.wv.similarity(\"gönül\",\"telefon\")"
   ]
  },
  {
   "cell_type": "code",
   "execution_count": 15,
   "metadata": {},
   "outputs": [
    {
     "data": {
      "text/plain": [
       "array([-0.03507029, -0.03761571, -0.08895427,  0.03976381,  0.05972349,\n",
       "        0.0134708 , -0.04111492, -0.03535741, -0.090954  , -0.00833672,\n",
       "       -0.00534301,  0.03557552, -0.03135074, -0.00932706, -0.00129223,\n",
       "       -0.05223621,  0.03036382,  0.04564701, -0.04062705, -0.08203823,\n",
       "       -0.02028482,  0.00806013, -0.0398705 , -0.01124488,  0.01731368,\n",
       "       -0.04660253, -0.04454467, -0.06380112,  0.00347204, -0.03554578,\n",
       "        0.05569895,  0.05421702, -0.0628158 , -0.03191915,  0.0158559 ,\n",
       "        0.00395698, -0.01462124, -0.03744318, -0.00697266,  0.01455868,\n",
       "        0.03613809, -0.04521361,  0.01523879, -0.02921684,  0.082271  ,\n",
       "       -0.03067074, -0.0118755 , -0.00019224,  0.06500806, -0.04775267,\n",
       "        0.01958905,  0.01517088, -0.04181797, -0.01938822, -0.05116218,\n",
       "        0.07809203, -0.01973972,  0.03254864,  0.00590088,  0.07538781,\n",
       "        0.01146404,  0.06498133,  0.02049702,  0.02155527,  0.02739687,\n",
       "        0.00373102,  0.02015302, -0.03260635,  0.00582353, -0.0436123 ,\n",
       "        0.00952588, -0.01335334, -0.04439287, -0.04134035, -0.03688364,\n",
       "       -0.01844377,  0.0376808 , -0.04188585,  0.01533382, -0.04514492,\n",
       "        0.00987476,  0.0365852 , -0.03680027, -0.01233777,  0.00156285,\n",
       "        0.01155791,  0.02378069, -0.01648819,  0.05202283, -0.02472553,\n",
       "       -0.02768598,  0.06952465, -0.03948835, -0.01585371, -0.00637714,\n",
       "        0.05789072,  0.03577024, -0.02881276,  0.06031755,  0.00736336],\n",
       "      dtype=float32)"
      ]
     },
     "execution_count": 15,
     "metadata": {},
     "output_type": "execute_result"
    }
   ],
   "source": [
    "model.infer_vector([\"gönül\"])"
   ]
  },
  {
   "cell_type": "code",
   "execution_count": 16,
   "metadata": {},
   "outputs": [
    {
     "data": {
      "text/plain": [
       "array([-0.28080663,  0.34189132, -0.62007314,  0.48870888,  0.6347286 ,\n",
       "        0.12129946, -0.02068309, -0.15544833, -0.5571553 ,  0.11967039,\n",
       "        0.02099456, -0.21138097,  0.3244732 ,  0.44944796,  0.30685624,\n",
       "       -0.8289713 ,  0.28652927,  0.5179792 , -0.2564783 , -0.5617401 ,\n",
       "       -0.52572554,  0.18678086, -0.636187  ,  0.16683437,  0.05570323,\n",
       "       -0.2024253 , -0.4140858 , -0.7326342 ,  0.00623639,  0.06714816,\n",
       "        0.01691602,  0.48696724, -0.6184902 , -0.00555424,  0.25234753,\n",
       "        0.18697874, -0.51867276, -0.52953583,  0.44551924,  0.08722926,\n",
       "       -0.35270143, -0.38202477,  0.45366165,  0.05801571,  0.2612016 ,\n",
       "       -0.34798512, -0.19580169,  0.1064648 ,  0.44081238, -0.06757148,\n",
       "        0.25436547,  0.28655377, -0.6263741 ,  0.51845187, -0.16776657,\n",
       "        0.86089814,  0.04308921,  0.62975174, -0.21627866,  1.027752  ,\n",
       "       -0.15314086,  1.3051672 ,  0.1605788 ,  0.03284608,  0.8530848 ,\n",
       "        0.12027129,  0.43962303, -0.5417724 , -0.02392867, -0.3375775 ,\n",
       "        0.06355385, -0.38107827, -0.13892467, -0.94672704, -0.05283604,\n",
       "       -0.17631081,  0.26509032, -0.3929127 ,  0.30698597, -0.51363415,\n",
       "       -0.14006071,  0.9330281 , -0.5330708 ,  0.42502603,  0.02103486,\n",
       "        0.8136928 ,  0.27199656, -0.02647086,  0.5694397 , -0.09182422,\n",
       "       -0.74682075,  0.53883743, -0.625086  ,  0.30758247,  0.30775905,\n",
       "        0.10995573,  0.08299457, -0.3168787 ,  0.16551816, -0.09163497],\n",
       "      dtype=float32)"
      ]
     },
     "execution_count": 16,
     "metadata": {},
     "output_type": "execute_result"
    }
   ],
   "source": [
    "model.wv[\"gönül\"]"
   ]
  }
 ],
 "metadata": {
  "kernelspec": {
   "display_name": "Python 3",
   "language": "python",
   "name": "python3"
  },
  "language_info": {
   "codemirror_mode": {
    "name": "ipython",
    "version": 3
   },
   "file_extension": ".py",
   "mimetype": "text/x-python",
   "name": "python",
   "nbconvert_exporter": "python",
   "pygments_lexer": "ipython3",
   "version": "3.10.10"
  },
  "orig_nbformat": 4,
  "vscode": {
   "interpreter": {
    "hash": "cccf58110e78881b05b784bd7baf1ae6021f67a20806dca348d3f3ea30b3f81b"
   }
  }
 },
 "nbformat": 4,
 "nbformat_minor": 2
}
