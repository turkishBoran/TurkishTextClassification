{
 "cells": [
  {
   "cell_type": "code",
   "execution_count": 1,
   "metadata": {},
   "outputs": [
    {
     "data": {
      "text/html": [
       "<div>\n",
       "<style scoped>\n",
       "    .dataframe tbody tr th:only-of-type {\n",
       "        vertical-align: middle;\n",
       "    }\n",
       "\n",
       "    .dataframe tbody tr th {\n",
       "        vertical-align: top;\n",
       "    }\n",
       "\n",
       "    .dataframe thead th {\n",
       "        text-align: right;\n",
       "    }\n",
       "</style>\n",
       "<table border=\"1\" class=\"dataframe\">\n",
       "  <thead>\n",
       "    <tr style=\"text-align: right;\">\n",
       "      <th></th>\n",
       "      <th>text</th>\n",
       "      <th>label</th>\n",
       "    </tr>\n",
       "  </thead>\n",
       "  <tbody>\n",
       "    <tr>\n",
       "      <th>0</th>\n",
       "      <td>japon sahil istihkȃm beyaz bayrak dalga yarın ...</td>\n",
       "      <td>1945-1962</td>\n",
       "    </tr>\n",
       "    <tr>\n",
       "      <th>1</th>\n",
       "      <td>çekici bir tesiri olacağı muhak ittifak demokr...</td>\n",
       "      <td>1945-1962</td>\n",
       "    </tr>\n",
       "    <tr>\n",
       "      <th>2</th>\n",
       "      <td>iki parti ton arpa satıl kilometre mesafe şam ...</td>\n",
       "      <td>1945-1962</td>\n",
       "    </tr>\n",
       "    <tr>\n",
       "      <th>3</th>\n",
       "      <td>tomruk işin şikȃyette bulunduğunu şikȃyeti gen...</td>\n",
       "      <td>1945-1962</td>\n",
       "    </tr>\n",
       "    <tr>\n",
       "      <th>4</th>\n",
       "      <td>mevzua müteal iş yap tak vesika teklif mektup ...</td>\n",
       "      <td>1945-1962</td>\n",
       "    </tr>\n",
       "  </tbody>\n",
       "</table>\n",
       "</div>"
      ],
      "text/plain": [
       "                                                text      label\n",
       "0  japon sahil istihkȃm beyaz bayrak dalga yarın ...  1945-1962\n",
       "1  çekici bir tesiri olacağı muhak ittifak demokr...  1945-1962\n",
       "2  iki parti ton arpa satıl kilometre mesafe şam ...  1945-1962\n",
       "3  tomruk işin şikȃyette bulunduğunu şikȃyeti gen...  1945-1962\n",
       "4  mevzua müteal iş yap tak vesika teklif mektup ...  1945-1962"
      ]
     },
     "execution_count": 1,
     "metadata": {},
     "output_type": "execute_result"
    }
   ],
   "source": [
    "import pandas as pd\n",
    "data = pd.read_excel(\"../../../db/clean_fix_zaman.xlsx\")\n",
    "data.head()"
   ]
  },
  {
   "cell_type": "code",
   "execution_count": 2,
   "metadata": {},
   "outputs": [],
   "source": [
    "data = data.dropna()"
   ]
  },
  {
   "cell_type": "code",
   "execution_count": 3,
   "metadata": {},
   "outputs": [
    {
     "name": "stdout",
     "output_type": "stream",
     "text": [
      "<class 'pandas.core.frame.DataFrame'>\n",
      "Int64Index: 1988 entries, 0 to 1999\n",
      "Data columns (total 2 columns):\n",
      " #   Column  Non-Null Count  Dtype \n",
      "---  ------  --------------  ----- \n",
      " 0   text    1988 non-null   object\n",
      " 1   label   1988 non-null   object\n",
      "dtypes: object(2)\n",
      "memory usage: 46.6+ KB\n"
     ]
    }
   ],
   "source": [
    "data.info()"
   ]
  },
  {
   "cell_type": "code",
   "execution_count": 4,
   "metadata": {},
   "outputs": [
    {
     "data": {
      "text/plain": [
       "0       [japon, sahil, istihkȃm, beyaz, bayrak, dalga,...\n",
       "1       [çekici, bir, tesiri, olacağı, muhak, ittifak,...\n",
       "2       [iki, parti, ton, arpa, satıl, kilometre, mesa...\n",
       "3       [tomruk, işin, şikȃyette, bulunduğunu, şikȃyet...\n",
       "4       [mevzua, müteal, iş, yap, tak, vesika, teklif,...\n",
       "                              ...                        \n",
       "1995    [olma, ülke, demokra, büyük, güvencesi, akp, m...\n",
       "1996    [yapıyor, mese, reha, baş, türban, başörtü, ol...\n",
       "1997    [arazi, üzerine, evini, yapıyor, yi, kaçak, ya...\n",
       "1998    [bil, bakanlığın, türkiye, adalet, bakanlığı, ...\n",
       "1999    [des, istedi, bunun, üzerine, mustafa, sarıgül...\n",
       "Name: text, Length: 1988, dtype: object"
      ]
     },
     "execution_count": 4,
     "metadata": {},
     "output_type": "execute_result"
    }
   ],
   "source": [
    "import gensim\n",
    "review_text = data.text.apply(gensim.utils.simple_preprocess)\n",
    "review_text"
   ]
  },
  {
   "cell_type": "code",
   "execution_count": 5,
   "metadata": {},
   "outputs": [],
   "source": [
    "model = gensim.models.Word2Vec(\n",
    "    vector_size=100,\n",
    "    window=10,\n",
    "    min_count=5,\n",
    "    alpha=0.025,\n",
    "    workers=11,\n",
    "    epochs=20\n",
    ")"
   ]
  },
  {
   "cell_type": "code",
   "execution_count": 6,
   "metadata": {},
   "outputs": [],
   "source": [
    "model.build_vocab(review_text)"
   ]
  },
  {
   "cell_type": "code",
   "execution_count": 7,
   "metadata": {},
   "outputs": [
    {
     "data": {
      "text/plain": [
       "20"
      ]
     },
     "execution_count": 7,
     "metadata": {},
     "output_type": "execute_result"
    }
   ],
   "source": [
    "model.epochs"
   ]
  },
  {
   "cell_type": "code",
   "execution_count": 8,
   "metadata": {},
   "outputs": [
    {
     "data": {
      "text/plain": [
       "(7324184, 8761240)"
      ]
     },
     "execution_count": 8,
     "metadata": {},
     "output_type": "execute_result"
    }
   ],
   "source": [
    "model.train(review_text,total_examples=model.corpus_count,epochs=model.epochs)"
   ]
  },
  {
   "cell_type": "code",
   "execution_count": 9,
   "metadata": {},
   "outputs": [],
   "source": [
    "model.save(\"word2vec_fix_zaman.word2vec\")"
   ]
  }
 ],
 "metadata": {
  "kernelspec": {
   "display_name": "Python 3",
   "language": "python",
   "name": "python3"
  },
  "language_info": {
   "codemirror_mode": {
    "name": "ipython",
    "version": 3
   },
   "file_extension": ".py",
   "mimetype": "text/x-python",
   "name": "python",
   "nbconvert_exporter": "python",
   "pygments_lexer": "ipython3",
   "version": "3.10.10"
  },
  "orig_nbformat": 4,
  "vscode": {
   "interpreter": {
    "hash": "cccf58110e78881b05b784bd7baf1ae6021f67a20806dca348d3f3ea30b3f81b"
   }
  }
 },
 "nbformat": 4,
 "nbformat_minor": 2
}
