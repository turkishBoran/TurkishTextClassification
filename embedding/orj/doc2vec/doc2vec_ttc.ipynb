{
 "cells": [
  {
   "cell_type": "code",
   "execution_count": 1,
   "metadata": {},
   "outputs": [
    {
     "data": {
      "text/html": [
       "<div>\n",
       "<style scoped>\n",
       "    .dataframe tbody tr th:only-of-type {\n",
       "        vertical-align: middle;\n",
       "    }\n",
       "\n",
       "    .dataframe tbody tr th {\n",
       "        vertical-align: top;\n",
       "    }\n",
       "\n",
       "    .dataframe thead th {\n",
       "        text-align: right;\n",
       "    }\n",
       "</style>\n",
       "<table border=\"1\" class=\"dataframe\">\n",
       "  <thead>\n",
       "    <tr style=\"text-align: right;\">\n",
       "      <th></th>\n",
       "      <th>text</th>\n",
       "      <th>label</th>\n",
       "    </tr>\n",
       "  </thead>\n",
       "  <tbody>\n",
       "    <tr>\n",
       "      <th>0</th>\n",
       "      <td>hgs i̇hlalli geçiş bilgileri sorgulama hizmeti...</td>\n",
       "      <td>ekonomi</td>\n",
       "    </tr>\n",
       "    <tr>\n",
       "      <th>1</th>\n",
       "      <td>yıl yüzde büyüyen helal gıda pazarı yıl discov...</td>\n",
       "      <td>ekonomi</td>\n",
       "    </tr>\n",
       "    <tr>\n",
       "      <th>2</th>\n",
       "      <td>i̇ş gyo i̇zmir temel attı i̇ş gayrimenkul yatı...</td>\n",
       "      <td>ekonomi</td>\n",
       "    </tr>\n",
       "    <tr>\n",
       "      <th>3</th>\n",
       "      <td>vergi indiren fransa bin istihdam bekliyor fra...</td>\n",
       "      <td>ekonomi</td>\n",
       "    </tr>\n",
       "    <tr>\n",
       "      <th>4</th>\n",
       "      <td>ericsson işçi çıkaracak i̇sveç merkezli ericss...</td>\n",
       "      <td>ekonomi</td>\n",
       "    </tr>\n",
       "  </tbody>\n",
       "</table>\n",
       "</div>"
      ],
      "text/plain": [
       "                                                text    label\n",
       "0  hgs i̇hlalli geçiş bilgileri sorgulama hizmeti...  ekonomi\n",
       "1  yıl yüzde büyüyen helal gıda pazarı yıl discov...  ekonomi\n",
       "2  i̇ş gyo i̇zmir temel attı i̇ş gayrimenkul yatı...  ekonomi\n",
       "3  vergi indiren fransa bin istihdam bekliyor fra...  ekonomi\n",
       "4  ericsson işçi çıkaracak i̇sveç merkezli ericss...  ekonomi"
      ]
     },
     "execution_count": 1,
     "metadata": {},
     "output_type": "execute_result"
    }
   ],
   "source": [
    "import pandas as pd\n",
    "data = pd.read_excel(\"../../../db/clean_orj_ttc.xlsx\")\n",
    "data.head()"
   ]
  },
  {
   "cell_type": "code",
   "execution_count": 5,
   "metadata": {},
   "outputs": [],
   "source": [
    "data = data.dropna()"
   ]
  },
  {
   "cell_type": "code",
   "execution_count": 6,
   "metadata": {},
   "outputs": [
    {
     "name": "stdout",
     "output_type": "stream",
     "text": [
      "<class 'pandas.core.frame.DataFrame'>\n",
      "RangeIndex: 3600 entries, 0 to 3599\n",
      "Data columns (total 2 columns):\n",
      " #   Column  Non-Null Count  Dtype \n",
      "---  ------  --------------  ----- \n",
      " 0   text    3600 non-null   object\n",
      " 1   label   3600 non-null   object\n",
      "dtypes: object(2)\n",
      "memory usage: 56.4+ KB\n"
     ]
    }
   ],
   "source": [
    "data.info()"
   ]
  },
  {
   "cell_type": "code",
   "execution_count": 7,
   "metadata": {},
   "outputs": [
    {
     "data": {
      "text/plain": [
       "0       [hgs, hlalli, geçiş, bilgileri, sorgulama, hiz...\n",
       "1       [yıl, yüzde, büyüyen, helal, gıda, pazarı, yıl...\n",
       "2       [gyo, zmir, temel, attı, gayrimenkul, yatırım,...\n",
       "3       [vergi, indiren, fransa, bin, istihdam, bekliy...\n",
       "4       [ericsson, işçi, çıkaracak, sveç, merkezli, er...\n",
       "                              ...                        \n",
       "3595    [giyilebilir, teknoloji, alanında, gün, yeni, ...\n",
       "3596    [abd, bulunan, johns, hopkins, üniversitesi, y...\n",
       "3597    [mars, gezegeninin, yüzeyinde, cam, katmanları...\n",
       "3598    [samsung, note, serisine, ait, note, birlikte,...\n",
       "3599    [sefer, bin, metreden, düşme, testine, maruz, ...\n",
       "Name: text, Length: 3600, dtype: object"
      ]
     },
     "execution_count": 7,
     "metadata": {},
     "output_type": "execute_result"
    }
   ],
   "source": [
    "import gensim\n",
    "review_text = data.text.apply(gensim.utils.simple_preprocess)\n",
    "review_text"
   ]
  },
  {
   "cell_type": "code",
   "execution_count": 8,
   "metadata": {},
   "outputs": [],
   "source": [
    "from gensim.models.doc2vec import TaggedDocument\n",
    "class TaggedDocumentIterator(object):\n",
    "    def __init__(self, doc_list, labels_list):\n",
    "        self.labels_list = labels_list\n",
    "        self.doc_list = doc_list\n",
    "    def __iter__(self):\n",
    "        for idx, doc in enumerate(self.doc_list):\n",
    "            yield TaggedDocument(words=doc, tags=[self.labels_list[idx]])\n",
    " \n",
    "docLabels = data.label.tolist()\n",
    "data_text = review_text.tolist()\n",
    "sentences = TaggedDocumentIterator(data_text, docLabels)"
   ]
  },
  {
   "cell_type": "code",
   "execution_count": 9,
   "metadata": {},
   "outputs": [],
   "source": [
    "model = gensim.models.Doc2Vec(\n",
    "    vector_size=100,\n",
    "    window=10,\n",
    "    min_count=2,\n",
    "    alpha=0.025,\n",
    "    workers=11,\n",
    "    epochs=20\n",
    ")"
   ]
  },
  {
   "cell_type": "code",
   "execution_count": 10,
   "metadata": {},
   "outputs": [],
   "source": [
    "model.build_vocab(sentences)"
   ]
  },
  {
   "cell_type": "code",
   "execution_count": 11,
   "metadata": {},
   "outputs": [
    {
     "data": {
      "text/plain": [
       "20"
      ]
     },
     "execution_count": 11,
     "metadata": {},
     "output_type": "execute_result"
    }
   ],
   "source": [
    "model.epochs"
   ]
  },
  {
   "cell_type": "code",
   "execution_count": 12,
   "metadata": {},
   "outputs": [],
   "source": [
    "model.train(sentences,total_examples=model.corpus_count,epochs=model.epochs)"
   ]
  },
  {
   "cell_type": "code",
   "execution_count": 13,
   "metadata": {},
   "outputs": [],
   "source": [
    "model.save(\"d2v_orj_ttc.doc2vec\")"
   ]
  },
  {
   "cell_type": "code",
   "execution_count": 14,
   "metadata": {},
   "outputs": [],
   "source": [
    "from gensim.models.doc2vec import Doc2Vec\n",
    "\n",
    "model = Doc2Vec.load(\"d2v_orj_ttc.doc2vec\")"
   ]
  },
  {
   "cell_type": "code",
   "execution_count": 15,
   "metadata": {},
   "outputs": [
    {
     "data": {
      "text/plain": [
       "[('bikiniyi', 0.7020871043205261),\n",
       " ('tatilcilerin', 0.7016024589538574),\n",
       " ('çiftçinin', 0.5580549836158752),\n",
       " ('tatili', 0.5482077598571777),\n",
       " ('polip', 0.5360095500946045),\n",
       " ('oksijen', 0.5356464385986328),\n",
       " ('boyutlara', 0.5330142974853516),\n",
       " ('hissiyle', 0.5302843451499939),\n",
       " ('zeytinyağında', 0.5269610285758972),\n",
       " ('kaynakların', 0.5260207653045654)]"
      ]
     },
     "execution_count": 15,
     "metadata": {},
     "output_type": "execute_result"
    }
   ],
   "source": [
    "model.wv.most_similar(\"zehir\")"
   ]
  },
  {
   "cell_type": "code",
   "execution_count": 16,
   "metadata": {},
   "outputs": [
    {
     "data": {
      "text/plain": [
       "1.0"
      ]
     },
     "execution_count": 16,
     "metadata": {},
     "output_type": "execute_result"
    }
   ],
   "source": [
    "model.wv.similarity(\"reha\",\"reha\")"
   ]
  },
  {
   "cell_type": "code",
   "execution_count": 17,
   "metadata": {},
   "outputs": [
    {
     "data": {
      "text/plain": [
       "-0.09124852"
      ]
     },
     "execution_count": 17,
     "metadata": {},
     "output_type": "execute_result"
    }
   ],
   "source": [
    "model.wv.similarity(\"gönül\",\"telefon\")"
   ]
  },
  {
   "cell_type": "code",
   "execution_count": 29,
   "metadata": {},
   "outputs": [
    {
     "data": {
      "text/plain": [
       "array([-5.44078946e-02, -2.41082404e-02, -1.05177149e-01,  7.35294893e-02,\n",
       "        5.20966277e-02, -1.92196816e-02,  1.46610457e-02,  8.63959454e-03,\n",
       "        2.61515053e-03,  6.00244254e-02,  8.21613818e-02,  2.16859505e-02,\n",
       "        6.27620658e-03, -2.09112205e-02, -7.20856637e-02, -9.18779895e-02,\n",
       "        2.93610133e-02,  5.45010120e-02, -3.95243894e-03, -4.27841917e-02,\n",
       "        5.66492928e-03,  4.71450053e-02,  3.75033543e-02, -3.02089565e-03,\n",
       "        6.81733042e-02, -1.07530551e-02, -4.04877849e-02, -3.89096402e-02,\n",
       "       -1.97700057e-02, -5.96117862e-02,  9.44734588e-02,  1.25476532e-02,\n",
       "       -4.53063101e-02, -1.66174080e-02, -1.12824813e-02, -6.14086874e-02,\n",
       "       -4.22097445e-02, -1.22310966e-01, -4.72634174e-02, -4.08687182e-02,\n",
       "       -8.46734270e-03, -5.34925088e-02, -1.12428749e-02, -3.66786458e-02,\n",
       "        2.21353788e-02,  1.26421131e-04,  3.78839411e-02, -6.74695596e-02,\n",
       "        2.33490821e-02, -3.68682705e-02,  4.15310599e-02, -3.54531929e-02,\n",
       "       -6.98545203e-02, -6.01134337e-02, -2.73842402e-02, -1.82062462e-02,\n",
       "        4.09759842e-02,  5.15799187e-02, -4.06967551e-02,  5.16490415e-02,\n",
       "        1.86494889e-03,  4.89269495e-02,  2.80780569e-02, -4.89560142e-02,\n",
       "       -4.19575535e-02, -1.66275091e-02,  5.77323213e-02,  4.51172739e-02,\n",
       "       -5.30064926e-02, -1.89844903e-03, -8.25582147e-02, -2.52516326e-02,\n",
       "       -1.53606990e-02, -3.22704725e-02, -1.65965538e-02, -7.49716943e-04,\n",
       "       -1.54803349e-02, -3.37871425e-02, -1.32246211e-03, -8.96975771e-03,\n",
       "        4.05300930e-02,  6.08908646e-02, -1.88298034e-03,  2.74312850e-02,\n",
       "        2.85615288e-02,  2.41993787e-03,  7.47913728e-03, -1.13779561e-06,\n",
       "        4.47174758e-02, -7.02074822e-03, -6.60798922e-02,  6.25489578e-02,\n",
       "       -5.17719164e-02, -7.02318223e-03,  2.37184539e-02,  9.93182585e-02,\n",
       "        2.52475552e-02, -3.53466570e-02,  8.45544636e-02,  4.92872745e-02],\n",
       "      dtype=float32)"
      ]
     },
     "execution_count": 29,
     "metadata": {},
     "output_type": "execute_result"
    }
   ],
   "source": [
    "model.infer_vector([\"gönül\"])"
   ]
  },
  {
   "cell_type": "code",
   "execution_count": 22,
   "metadata": {},
   "outputs": [
    {
     "data": {
      "text/plain": [
       "array([-0.6438564 , -0.25843328, -0.75277275,  0.22681464, -0.27780426,\n",
       "        0.14447078,  1.378416  ,  0.41578382, -0.25456038,  1.4659854 ,\n",
       "       -0.62038034, -0.5683481 , -0.9949412 , -0.7047883 , -1.2373943 ,\n",
       "       -1.3894767 , -0.51413095, -0.23110233, -0.66365993, -0.57563144,\n",
       "        0.8393558 ,  0.09758348,  1.438648  ,  0.54612154,  0.20301175,\n",
       "        1.0492905 ,  0.56298065, -0.08451691,  0.27241784, -0.23268273,\n",
       "        1.2020751 , -0.08394275,  0.6739318 ,  0.80611587, -0.38595188,\n",
       "       -1.1428174 , -1.3631533 , -1.9160404 , -1.3676168 ,  0.81314015,\n",
       "       -0.29459852,  0.36670193,  0.11478617,  0.32913068,  0.17050263,\n",
       "        0.15998612,  0.31301972, -1.8500595 ,  0.9834698 , -0.03111084,\n",
       "        0.45035553, -1.138935  , -0.28997228, -0.6940606 , -0.66874236,\n",
       "       -0.9123198 ,  0.44885245,  1.3551427 , -0.46550328,  0.18144774,\n",
       "       -0.9968789 , -0.28720284,  0.11898606, -1.2686493 , -1.5205351 ,\n",
       "        0.263392  ,  0.15881056,  1.1140766 , -0.8894133 , -0.55754924,\n",
       "       -2.1590576 , -0.97492796,  0.6454052 , -0.20800899,  0.5919848 ,\n",
       "        0.27350453, -0.20953123, -0.45669895, -2.1599011 ,  0.80272937,\n",
       "       -1.2858316 ,  1.3225797 ,  0.3545516 , -0.30165344, -0.0762707 ,\n",
       "       -0.1220086 , -0.05396692,  1.3586497 ,  0.11088475, -0.794573  ,\n",
       "       -1.0066521 ,  0.86973846,  1.2940388 , -0.07289524,  0.73176366,\n",
       "        0.73369753,  1.1369463 , -0.18208987,  1.6834015 ,  1.0871257 ],\n",
       "      dtype=float32)"
      ]
     },
     "execution_count": 22,
     "metadata": {},
     "output_type": "execute_result"
    }
   ],
   "source": [
    "model.wv[\"gönül\"]"
   ]
  }
 ],
 "metadata": {
  "kernelspec": {
   "display_name": "Python 3",
   "language": "python",
   "name": "python3"
  },
  "language_info": {
   "codemirror_mode": {
    "name": "ipython",
    "version": 3
   },
   "file_extension": ".py",
   "mimetype": "text/x-python",
   "name": "python",
   "nbconvert_exporter": "python",
   "pygments_lexer": "ipython3",
   "version": "3.10.10"
  },
  "orig_nbformat": 4,
  "vscode": {
   "interpreter": {
    "hash": "cccf58110e78881b05b784bd7baf1ae6021f67a20806dca348d3f3ea30b3f81b"
   }
  }
 },
 "nbformat": 4,
 "nbformat_minor": 2
}
