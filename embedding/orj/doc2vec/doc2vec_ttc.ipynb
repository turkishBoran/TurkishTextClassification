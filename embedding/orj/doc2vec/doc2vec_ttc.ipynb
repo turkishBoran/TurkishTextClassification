{
 "cells": [
  {
   "cell_type": "code",
   "execution_count": 1,
   "metadata": {},
   "outputs": [
    {
     "data": {
      "text/html": [
       "<div>\n",
       "<style scoped>\n",
       "    .dataframe tbody tr th:only-of-type {\n",
       "        vertical-align: middle;\n",
       "    }\n",
       "\n",
       "    .dataframe tbody tr th {\n",
       "        vertical-align: top;\n",
       "    }\n",
       "\n",
       "    .dataframe thead th {\n",
       "        text-align: right;\n",
       "    }\n",
       "</style>\n",
       "<table border=\"1\" class=\"dataframe\">\n",
       "  <thead>\n",
       "    <tr style=\"text-align: right;\">\n",
       "      <th></th>\n",
       "      <th>text</th>\n",
       "      <th>label</th>\n",
       "    </tr>\n",
       "  </thead>\n",
       "  <tbody>\n",
       "    <tr>\n",
       "      <th>0</th>\n",
       "      <td>hgs i̇hlalli geçiş bilgileri sorgulama hizmeti...</td>\n",
       "      <td>ekonomi</td>\n",
       "    </tr>\n",
       "    <tr>\n",
       "      <th>1</th>\n",
       "      <td>yıl yüzde büyüyen helal gıda pazarı yıl discov...</td>\n",
       "      <td>ekonomi</td>\n",
       "    </tr>\n",
       "    <tr>\n",
       "      <th>2</th>\n",
       "      <td>i̇ş gyo i̇zmir temel attı i̇ş gayrimenkul yatı...</td>\n",
       "      <td>ekonomi</td>\n",
       "    </tr>\n",
       "    <tr>\n",
       "      <th>3</th>\n",
       "      <td>vergi indiren fransa bin istihdam bekliyor fra...</td>\n",
       "      <td>ekonomi</td>\n",
       "    </tr>\n",
       "    <tr>\n",
       "      <th>4</th>\n",
       "      <td>ericsson işçi çıkaracak i̇sveç merkezli ericss...</td>\n",
       "      <td>ekonomi</td>\n",
       "    </tr>\n",
       "  </tbody>\n",
       "</table>\n",
       "</div>"
      ],
      "text/plain": [
       "                                                text    label\n",
       "0  hgs i̇hlalli geçiş bilgileri sorgulama hizmeti...  ekonomi\n",
       "1  yıl yüzde büyüyen helal gıda pazarı yıl discov...  ekonomi\n",
       "2  i̇ş gyo i̇zmir temel attı i̇ş gayrimenkul yatı...  ekonomi\n",
       "3  vergi indiren fransa bin istihdam bekliyor fra...  ekonomi\n",
       "4  ericsson işçi çıkaracak i̇sveç merkezli ericss...  ekonomi"
      ]
     },
     "execution_count": 1,
     "metadata": {},
     "output_type": "execute_result"
    }
   ],
   "source": [
    "import pandas as pd\n",
    "data = pd.read_excel(\"../../../db/clean_orj_ttc.xlsx\")\n",
    "data.head()"
   ]
  },
  {
   "cell_type": "code",
   "execution_count": 5,
   "metadata": {},
   "outputs": [],
   "source": [
    "data = data.dropna()"
   ]
  },
  {
   "cell_type": "code",
   "execution_count": 6,
   "metadata": {},
   "outputs": [
    {
     "name": "stdout",
     "output_type": "stream",
     "text": [
      "<class 'pandas.core.frame.DataFrame'>\n",
      "RangeIndex: 3600 entries, 0 to 3599\n",
      "Data columns (total 2 columns):\n",
      " #   Column  Non-Null Count  Dtype \n",
      "---  ------  --------------  ----- \n",
      " 0   text    3600 non-null   object\n",
      " 1   label   3600 non-null   object\n",
      "dtypes: object(2)\n",
      "memory usage: 56.4+ KB\n"
     ]
    }
   ],
   "source": [
    "data.info()"
   ]
  },
  {
   "cell_type": "code",
   "execution_count": 7,
   "metadata": {},
   "outputs": [
    {
     "data": {
      "text/plain": [
       "0       [hgs, hlalli, geçiş, bilgileri, sorgulama, hiz...\n",
       "1       [yıl, yüzde, büyüyen, helal, gıda, pazarı, yıl...\n",
       "2       [gyo, zmir, temel, attı, gayrimenkul, yatırım,...\n",
       "3       [vergi, indiren, fransa, bin, istihdam, bekliy...\n",
       "4       [ericsson, işçi, çıkaracak, sveç, merkezli, er...\n",
       "                              ...                        \n",
       "3595    [giyilebilir, teknoloji, alanında, gün, yeni, ...\n",
       "3596    [abd, bulunan, johns, hopkins, üniversitesi, y...\n",
       "3597    [mars, gezegeninin, yüzeyinde, cam, katmanları...\n",
       "3598    [samsung, note, serisine, ait, note, birlikte,...\n",
       "3599    [sefer, bin, metreden, düşme, testine, maruz, ...\n",
       "Name: text, Length: 3600, dtype: object"
      ]
     },
     "execution_count": 7,
     "metadata": {},
     "output_type": "execute_result"
    }
   ],
   "source": [
    "import gensim\n",
    "review_text = data.text.apply(gensim.utils.simple_preprocess)\n",
    "review_text"
   ]
  },
  {
   "cell_type": "code",
   "execution_count": 8,
   "metadata": {},
   "outputs": [],
   "source": [
    "from gensim.models.doc2vec import TaggedDocument\n",
    "class TaggedDocumentIterator(object):\n",
    "    def __init__(self, doc_list, labels_list):\n",
    "        self.labels_list = labels_list\n",
    "        self.doc_list = doc_list\n",
    "    def __iter__(self):\n",
    "        for idx, doc in enumerate(self.doc_list):\n",
    "            yield TaggedDocument(words=doc, tags=[self.labels_list[idx]])\n",
    " \n",
    "docLabels = data.label.tolist()\n",
    "data_text = review_text.tolist()\n",
    "sentences = TaggedDocumentIterator(data_text, docLabels)"
   ]
  },
  {
   "cell_type": "code",
   "execution_count": 9,
   "metadata": {},
   "outputs": [],
   "source": [
    "model = gensim.models.Doc2Vec(\n",
    "    vector_size=100,\n",
    "    window=10,\n",
    "    min_count=2,\n",
    "    alpha=0.025,\n",
    "    workers=11,\n",
    "    epochs=20\n",
    ")"
   ]
  },
  {
   "cell_type": "code",
   "execution_count": 10,
   "metadata": {},
   "outputs": [],
   "source": [
    "model.build_vocab(sentences)"
   ]
  },
  {
   "cell_type": "code",
   "execution_count": 11,
   "metadata": {},
   "outputs": [
    {
     "data": {
      "text/plain": [
       "20"
      ]
     },
     "execution_count": 11,
     "metadata": {},
     "output_type": "execute_result"
    }
   ],
   "source": [
    "model.epochs"
   ]
  },
  {
   "cell_type": "code",
   "execution_count": 12,
   "metadata": {},
   "outputs": [],
   "source": [
    "model.train(sentences,total_examples=model.corpus_count,epochs=model.epochs)"
   ]
  },
  {
   "cell_type": "code",
   "execution_count": 13,
   "metadata": {},
   "outputs": [],
   "source": [
    "model.save(\"d2v_orj_ttc.doc2vec\")"
   ]
  }
 ],
 "metadata": {
  "kernelspec": {
   "display_name": "Python 3",
   "language": "python",
   "name": "python3"
  },
  "language_info": {
   "codemirror_mode": {
    "name": "ipython",
    "version": 3
   },
   "file_extension": ".py",
   "mimetype": "text/x-python",
   "name": "python",
   "nbconvert_exporter": "python",
   "pygments_lexer": "ipython3",
   "version": "3.10.10"
  },
  "orig_nbformat": 4,
  "vscode": {
   "interpreter": {
    "hash": "cccf58110e78881b05b784bd7baf1ae6021f67a20806dca348d3f3ea30b3f81b"
   }
  }
 },
 "nbformat": 4,
 "nbformat_minor": 2
}
