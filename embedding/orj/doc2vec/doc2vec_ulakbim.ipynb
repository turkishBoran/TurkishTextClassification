{
 "cells": [
  {
   "cell_type": "code",
   "execution_count": 1,
   "metadata": {},
   "outputs": [
    {
     "data": {
      "text/html": [
       "<div>\n",
       "<style scoped>\n",
       "    .dataframe tbody tr th:only-of-type {\n",
       "        vertical-align: middle;\n",
       "    }\n",
       "\n",
       "    .dataframe tbody tr th {\n",
       "        vertical-align: top;\n",
       "    }\n",
       "\n",
       "    .dataframe thead th {\n",
       "        text-align: right;\n",
       "    }\n",
       "</style>\n",
       "<table border=\"1\" class=\"dataframe\">\n",
       "  <thead>\n",
       "    <tr style=\"text-align: right;\">\n",
       "      <th></th>\n",
       "      <th>text</th>\n",
       "      <th>label</th>\n",
       "    </tr>\n",
       "  </thead>\n",
       "  <tbody>\n",
       "    <tr>\n",
       "      <th>0</th>\n",
       "      <td>türk çimento sektörü ekonomik sosyal çevresel ...</td>\n",
       "      <td>Muhendislik</td>\n",
       "    </tr>\n",
       "    <tr>\n",
       "      <th>1</th>\n",
       "      <td>kollu galeri açma makineleri madencilik tünelc...</td>\n",
       "      <td>Muhendislik</td>\n",
       "    </tr>\n",
       "    <tr>\n",
       "      <th>2</th>\n",
       "      <td>özet araştırma derlenen bilgiler i̇stanbul ili...</td>\n",
       "      <td>Muhendislik</td>\n",
       "    </tr>\n",
       "    <tr>\n",
       "      <th>3</th>\n",
       "      <td>özet araştırma derlenen bilgiler i̇stanbul ili...</td>\n",
       "      <td>Muhendislik</td>\n",
       "    </tr>\n",
       "    <tr>\n",
       "      <th>4</th>\n",
       "      <td>özet çalışmada karadeniz yakalanan istavrit tr...</td>\n",
       "      <td>Muhendislik</td>\n",
       "    </tr>\n",
       "  </tbody>\n",
       "</table>\n",
       "</div>"
      ],
      "text/plain": [
       "                                                text        label\n",
       "0  türk çimento sektörü ekonomik sosyal çevresel ...  Muhendislik\n",
       "1  kollu galeri açma makineleri madencilik tünelc...  Muhendislik\n",
       "2  özet araştırma derlenen bilgiler i̇stanbul ili...  Muhendislik\n",
       "3  özet araştırma derlenen bilgiler i̇stanbul ili...  Muhendislik\n",
       "4  özet çalışmada karadeniz yakalanan istavrit tr...  Muhendislik"
      ]
     },
     "execution_count": 1,
     "metadata": {},
     "output_type": "execute_result"
    }
   ],
   "source": [
    "import pandas as pd\n",
    "data = pd.read_excel(\"../../../db/clean_orj_ulakbim.xlsx\")\n",
    "data.head()"
   ]
  },
  {
   "cell_type": "code",
   "execution_count": 2,
   "metadata": {},
   "outputs": [],
   "source": [
    "data = data.dropna()"
   ]
  },
  {
   "cell_type": "code",
   "execution_count": 3,
   "metadata": {},
   "outputs": [
    {
     "name": "stdout",
     "output_type": "stream",
     "text": [
      "<class 'pandas.core.frame.DataFrame'>\n",
      "Int64Index: 2999 entries, 0 to 2999\n",
      "Data columns (total 2 columns):\n",
      " #   Column  Non-Null Count  Dtype \n",
      "---  ------  --------------  ----- \n",
      " 0   text    2999 non-null   object\n",
      " 1   label   2999 non-null   object\n",
      "dtypes: object(2)\n",
      "memory usage: 70.3+ KB\n"
     ]
    }
   ],
   "source": [
    "data.info()"
   ]
  },
  {
   "cell_type": "code",
   "execution_count": 4,
   "metadata": {},
   "outputs": [
    {
     "data": {
      "text/plain": [
       "0       [türk, çimento, sektörü, ekonomik, sosyal, çev...\n",
       "1       [kollu, galeri, açma, makineleri, madencilik, ...\n",
       "2       [özet, araştırma, derlenen, bilgiler, stanbul,...\n",
       "3       [özet, araştırma, derlenen, bilgiler, stanbul,...\n",
       "4       [özet, çalışmada, karadeniz, yakalanan, istavr...\n",
       "                              ...                        \n",
       "2995    [çalışma, heracleum, platytaenium, boiss, öğre...\n",
       "2996    [korunan, alanlar, ilgili, çalışmalar, eski, z...\n",
       "2997    [çalışmada, bölgeye, uyumlarını, belirlemek, a...\n",
       "2998    [çalışma, balıkesir, yöresindeki, sanayi, doma...\n",
       "2999    [vertisol, latince, vertere, dönen, anlamına, ...\n",
       "Name: text, Length: 2999, dtype: object"
      ]
     },
     "execution_count": 4,
     "metadata": {},
     "output_type": "execute_result"
    }
   ],
   "source": [
    "import gensim\n",
    "review_text = data.text.apply(gensim.utils.simple_preprocess)\n",
    "review_text"
   ]
  },
  {
   "cell_type": "code",
   "execution_count": 5,
   "metadata": {},
   "outputs": [],
   "source": [
    "from gensim.models.doc2vec import TaggedDocument\n",
    "class TaggedDocumentIterator(object):\n",
    "    def __init__(self, doc_list, labels_list):\n",
    "        self.labels_list = labels_list\n",
    "        self.doc_list = doc_list\n",
    "    def __iter__(self):\n",
    "        for idx, doc in enumerate(self.doc_list):\n",
    "            yield TaggedDocument(words=doc, tags=[self.labels_list[idx]])\n",
    " \n",
    "docLabels = data.label.tolist()\n",
    "data_text = review_text.tolist()\n",
    "sentences = TaggedDocumentIterator(data_text, docLabels)"
   ]
  },
  {
   "cell_type": "code",
   "execution_count": 6,
   "metadata": {},
   "outputs": [],
   "source": [
    "model = gensim.models.Doc2Vec(\n",
    "    vector_size=100,\n",
    "    window=10,\n",
    "    min_count=2,\n",
    "    alpha=0.025,\n",
    "    workers=11,\n",
    "    epochs=20\n",
    ")"
   ]
  },
  {
   "cell_type": "code",
   "execution_count": 7,
   "metadata": {},
   "outputs": [],
   "source": [
    "model.build_vocab(sentences)"
   ]
  },
  {
   "cell_type": "code",
   "execution_count": 8,
   "metadata": {},
   "outputs": [
    {
     "data": {
      "text/plain": [
       "20"
      ]
     },
     "execution_count": 8,
     "metadata": {},
     "output_type": "execute_result"
    }
   ],
   "source": [
    "model.epochs"
   ]
  },
  {
   "cell_type": "code",
   "execution_count": 9,
   "metadata": {},
   "outputs": [],
   "source": [
    "model.train(sentences,total_examples=model.corpus_count,epochs=model.epochs)"
   ]
  },
  {
   "cell_type": "code",
   "execution_count": 10,
   "metadata": {},
   "outputs": [],
   "source": [
    "model.save(\"d2v_orj_ulakbim.doc2vec\")"
   ]
  }
 ],
 "metadata": {
  "kernelspec": {
   "display_name": "Python 3",
   "language": "python",
   "name": "python3"
  },
  "language_info": {
   "codemirror_mode": {
    "name": "ipython",
    "version": 3
   },
   "file_extension": ".py",
   "mimetype": "text/x-python",
   "name": "python",
   "nbconvert_exporter": "python",
   "pygments_lexer": "ipython3",
   "version": "3.10.10"
  },
  "orig_nbformat": 4,
  "vscode": {
   "interpreter": {
    "hash": "cccf58110e78881b05b784bd7baf1ae6021f67a20806dca348d3f3ea30b3f81b"
   }
  }
 },
 "nbformat": 4,
 "nbformat_minor": 2
}
