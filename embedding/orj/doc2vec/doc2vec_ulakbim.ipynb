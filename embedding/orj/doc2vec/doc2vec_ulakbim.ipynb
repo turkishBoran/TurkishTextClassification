{
 "cells": [
  {
   "cell_type": "code",
   "execution_count": 1,
   "metadata": {},
   "outputs": [
    {
     "data": {
      "text/html": [
       "<div>\n",
       "<style scoped>\n",
       "    .dataframe tbody tr th:only-of-type {\n",
       "        vertical-align: middle;\n",
       "    }\n",
       "\n",
       "    .dataframe tbody tr th {\n",
       "        vertical-align: top;\n",
       "    }\n",
       "\n",
       "    .dataframe thead th {\n",
       "        text-align: right;\n",
       "    }\n",
       "</style>\n",
       "<table border=\"1\" class=\"dataframe\">\n",
       "  <thead>\n",
       "    <tr style=\"text-align: right;\">\n",
       "      <th></th>\n",
       "      <th>text</th>\n",
       "      <th>label</th>\n",
       "    </tr>\n",
       "  </thead>\n",
       "  <tbody>\n",
       "    <tr>\n",
       "      <th>0</th>\n",
       "      <td>türk çimento sektörü ekonomik sosyal çevresel ...</td>\n",
       "      <td>Muhendislik</td>\n",
       "    </tr>\n",
       "    <tr>\n",
       "      <th>1</th>\n",
       "      <td>kollu galeri açma makineleri madencilik tünelc...</td>\n",
       "      <td>Muhendislik</td>\n",
       "    </tr>\n",
       "    <tr>\n",
       "      <th>2</th>\n",
       "      <td>özet araştırma derlenen bilgiler i̇stanbul ili...</td>\n",
       "      <td>Muhendislik</td>\n",
       "    </tr>\n",
       "    <tr>\n",
       "      <th>3</th>\n",
       "      <td>özet araştırma derlenen bilgiler i̇stanbul ili...</td>\n",
       "      <td>Muhendislik</td>\n",
       "    </tr>\n",
       "    <tr>\n",
       "      <th>4</th>\n",
       "      <td>özet çalışmada karadeniz yakalanan istavrit tr...</td>\n",
       "      <td>Muhendislik</td>\n",
       "    </tr>\n",
       "  </tbody>\n",
       "</table>\n",
       "</div>"
      ],
      "text/plain": [
       "                                                text        label\n",
       "0  türk çimento sektörü ekonomik sosyal çevresel ...  Muhendislik\n",
       "1  kollu galeri açma makineleri madencilik tünelc...  Muhendislik\n",
       "2  özet araştırma derlenen bilgiler i̇stanbul ili...  Muhendislik\n",
       "3  özet araştırma derlenen bilgiler i̇stanbul ili...  Muhendislik\n",
       "4  özet çalışmada karadeniz yakalanan istavrit tr...  Muhendislik"
      ]
     },
     "execution_count": 1,
     "metadata": {},
     "output_type": "execute_result"
    }
   ],
   "source": [
    "import pandas as pd\n",
    "data = pd.read_excel(\"../../../db/clean_orj_ulakbim.xlsx\")\n",
    "data.head()"
   ]
  },
  {
   "cell_type": "code",
   "execution_count": 2,
   "metadata": {},
   "outputs": [],
   "source": [
    "data = data.dropna()"
   ]
  },
  {
   "cell_type": "code",
   "execution_count": 3,
   "metadata": {},
   "outputs": [
    {
     "name": "stdout",
     "output_type": "stream",
     "text": [
      "<class 'pandas.core.frame.DataFrame'>\n",
      "Int64Index: 2999 entries, 0 to 2999\n",
      "Data columns (total 2 columns):\n",
      " #   Column  Non-Null Count  Dtype \n",
      "---  ------  --------------  ----- \n",
      " 0   text    2999 non-null   object\n",
      " 1   label   2999 non-null   object\n",
      "dtypes: object(2)\n",
      "memory usage: 70.3+ KB\n"
     ]
    }
   ],
   "source": [
    "data.info()"
   ]
  },
  {
   "cell_type": "code",
   "execution_count": 4,
   "metadata": {},
   "outputs": [
    {
     "data": {
      "text/plain": [
       "0       [türk, çimento, sektörü, ekonomik, sosyal, çev...\n",
       "1       [kollu, galeri, açma, makineleri, madencilik, ...\n",
       "2       [özet, araştırma, derlenen, bilgiler, stanbul,...\n",
       "3       [özet, araştırma, derlenen, bilgiler, stanbul,...\n",
       "4       [özet, çalışmada, karadeniz, yakalanan, istavr...\n",
       "                              ...                        \n",
       "2995    [çalışma, heracleum, platytaenium, boiss, öğre...\n",
       "2996    [korunan, alanlar, ilgili, çalışmalar, eski, z...\n",
       "2997    [çalışmada, bölgeye, uyumlarını, belirlemek, a...\n",
       "2998    [çalışma, balıkesir, yöresindeki, sanayi, doma...\n",
       "2999    [vertisol, latince, vertere, dönen, anlamına, ...\n",
       "Name: text, Length: 2999, dtype: object"
      ]
     },
     "execution_count": 4,
     "metadata": {},
     "output_type": "execute_result"
    }
   ],
   "source": [
    "import gensim\n",
    "review_text = data.text.apply(gensim.utils.simple_preprocess)\n",
    "review_text"
   ]
  },
  {
   "cell_type": "code",
   "execution_count": 5,
   "metadata": {},
   "outputs": [],
   "source": [
    "from gensim.models.doc2vec import TaggedDocument\n",
    "class TaggedDocumentIterator(object):\n",
    "    def __init__(self, doc_list, labels_list):\n",
    "        self.labels_list = labels_list\n",
    "        self.doc_list = doc_list\n",
    "    def __iter__(self):\n",
    "        for idx, doc in enumerate(self.doc_list):\n",
    "            yield TaggedDocument(words=doc, tags=[self.labels_list[idx]])\n",
    " \n",
    "docLabels = data.label.tolist()\n",
    "data_text = review_text.tolist()\n",
    "sentences = TaggedDocumentIterator(data_text, docLabels)"
   ]
  },
  {
   "cell_type": "code",
   "execution_count": 6,
   "metadata": {},
   "outputs": [],
   "source": [
    "model = gensim.models.Doc2Vec(\n",
    "    vector_size=100,\n",
    "    window=10,\n",
    "    min_count=2,\n",
    "    alpha=0.025,\n",
    "    workers=11,\n",
    "    epochs=20\n",
    ")"
   ]
  },
  {
   "cell_type": "code",
   "execution_count": 7,
   "metadata": {},
   "outputs": [],
   "source": [
    "model.build_vocab(sentences)"
   ]
  },
  {
   "cell_type": "code",
   "execution_count": 8,
   "metadata": {},
   "outputs": [
    {
     "data": {
      "text/plain": [
       "20"
      ]
     },
     "execution_count": 8,
     "metadata": {},
     "output_type": "execute_result"
    }
   ],
   "source": [
    "model.epochs"
   ]
  },
  {
   "cell_type": "code",
   "execution_count": 9,
   "metadata": {},
   "outputs": [],
   "source": [
    "model.train(sentences,total_examples=model.corpus_count,epochs=model.epochs)"
   ]
  },
  {
   "cell_type": "code",
   "execution_count": 10,
   "metadata": {},
   "outputs": [],
   "source": [
    "model.save(\"d2v_orj_ulakbim.doc2vec\")"
   ]
  },
  {
   "cell_type": "code",
   "execution_count": 11,
   "metadata": {},
   "outputs": [],
   "source": [
    "from gensim.models.doc2vec import Doc2Vec\n",
    "\n",
    "model = Doc2Vec.load(\"d2v_orj_ulakbim.doc2vec\")"
   ]
  },
  {
   "cell_type": "code",
   "execution_count": 12,
   "metadata": {},
   "outputs": [
    {
     "data": {
      "text/plain": [
       "[('eph', 0.718512773513794),\n",
       " ('madenciliğinin', 0.704422116279602),\n",
       " ('spotu', 0.699924886226654),\n",
       " ('toza', 0.6994417905807495),\n",
       " ('planlaması', 0.6869729161262512),\n",
       " ('reklamlarına', 0.6810364127159119),\n",
       " ('pdr', 0.6701413989067078),\n",
       " ('kuaför', 0.6682091951370239),\n",
       " ('pratikte', 0.666111171245575),\n",
       " ('ekipman', 0.6478506326675415)]"
      ]
     },
     "execution_count": 12,
     "metadata": {},
     "output_type": "execute_result"
    }
   ],
   "source": [
    "model.wv.most_similar(\"zehir\")"
   ]
  },
  {
   "cell_type": "code",
   "execution_count": 14,
   "metadata": {},
   "outputs": [
    {
     "data": {
      "text/plain": [
       "1.0"
      ]
     },
     "execution_count": 14,
     "metadata": {},
     "output_type": "execute_result"
    }
   ],
   "source": [
    "model.wv.similarity(\"zehir\",\"zehir\")"
   ]
  },
  {
   "cell_type": "code",
   "execution_count": 16,
   "metadata": {},
   "outputs": [
    {
     "data": {
      "text/plain": [
       "0.38342604"
      ]
     },
     "execution_count": 16,
     "metadata": {},
     "output_type": "execute_result"
    }
   ],
   "source": [
    "model.wv.similarity(\"gönül\",\"telefon\")"
   ]
  },
  {
   "cell_type": "code",
   "execution_count": 17,
   "metadata": {},
   "outputs": [
    {
     "data": {
      "text/plain": [
       "array([-0.03392114, -0.04867672, -0.07622264,  0.0308567 ,  0.09731833,\n",
       "        0.01408746, -0.01457026,  0.00125277, -0.08328401,  0.00193161,\n",
       "       -0.00857848, -0.01746358,  0.01325699,  0.0341536 , -0.0329453 ,\n",
       "       -0.05340494,  0.02885413,  0.05066433, -0.04657393, -0.04169217,\n",
       "       -0.01032519, -0.01842422, -0.04139296,  0.04124348,  0.0441225 ,\n",
       "       -0.03873883, -0.01848763, -0.01761894, -0.05190233, -0.06283748,\n",
       "        0.08318613,  0.05192014, -0.04219906, -0.06126979, -0.00494398,\n",
       "        0.01669588,  0.00675383, -0.0223345 , -0.04753949,  0.00279279,\n",
       "       -0.00896048, -0.06956822,  0.08899609, -0.04952392,  0.01743537,\n",
       "       -0.06222329, -0.0187044 ,  0.00255656,  0.08203619, -0.03656359,\n",
       "       -0.0238639 , -0.05641127, -0.02520956, -0.00187833, -0.02130456,\n",
       "        0.04538967, -0.00884389,  0.0091948 , -0.04243005,  0.02952106,\n",
       "        0.06197884,  0.02390523, -0.0004974 ,  0.00321191, -0.02629171,\n",
       "       -0.00377455,  0.0074384 ,  0.01782338,  0.03978576, -0.0313295 ,\n",
       "        0.00351301,  0.0202867 , -0.00608802, -0.03401642, -0.01779791,\n",
       "        0.0159237 ,  0.02556211, -0.01186375,  0.03330621,  0.00788288,\n",
       "        0.01086207, -0.04199011, -0.05702408,  0.0200408 ,  0.01944102,\n",
       "        0.03137591,  0.06279349, -0.02156804,  0.03038329,  0.02149588,\n",
       "       -0.01851478,  0.02300198, -0.0462974 ,  0.02318031,  0.01981702,\n",
       "        0.07560217,  0.02611689, -0.06664914,  0.05808742, -0.00558926],\n",
       "      dtype=float32)"
      ]
     },
     "execution_count": 17,
     "metadata": {},
     "output_type": "execute_result"
    }
   ],
   "source": [
    "model.infer_vector([\"gönül\"])"
   ]
  },
  {
   "cell_type": "code",
   "execution_count": 18,
   "metadata": {},
   "outputs": [
    {
     "data": {
      "text/plain": [
       "array([-0.8727408 , -0.1589908 , -1.7297758 , -0.0171827 ,  0.9744545 ,\n",
       "        0.63576126, -0.7656876 ,  0.8791854 , -0.5302789 ,  0.28441942,\n",
       "        0.17224874, -0.7388176 , -0.21828653,  0.5253572 , -0.4407429 ,\n",
       "       -1.2519221 ,  0.7733206 ,  0.09351321, -0.18402825, -0.28168583,\n",
       "       -0.4738092 ,  0.35108757, -0.21545728,  0.73857987, -0.08999285,\n",
       "       -0.32088706, -0.35073674,  0.23765583, -1.474746  , -1.1967248 ,\n",
       "        1.2594118 ,  0.40723634, -0.79347533, -0.41490182, -0.11232659,\n",
       "       -0.08447611, -0.39305663, -0.73268044, -1.0863309 , -0.09197615,\n",
       "       -0.894359  , -0.84434754,  0.86918855, -0.3515604 , -0.6625224 ,\n",
       "       -0.662465  , -0.9401901 ,  0.01447485,  1.2326118 , -0.26450992,\n",
       "       -0.59946764, -1.3435583 ,  0.21212247, -0.07113255, -0.37863603,\n",
       "        0.7121684 ,  0.10248205,  0.8094365 , -0.5547925 , -0.1857814 ,\n",
       "        0.8744469 ,  0.18858764, -0.27857774, -0.11192942, -0.45974636,\n",
       "        0.6483926 , -0.24281467,  0.24539657,  0.78668535, -0.45367053,\n",
       "        0.69888705,  0.88889897,  0.35480353, -0.42237684, -0.51585937,\n",
       "        0.18296273,  1.3550812 ,  0.15212196,  0.4750616 , -0.16911621,\n",
       "       -0.23395537, -0.74578476, -0.69539607,  0.22891505, -0.28694642,\n",
       "        0.44795248,  1.0626738 , -0.4884905 ,  0.37377918,  0.73896813,\n",
       "       -0.02476953,  0.46975303, -0.43861118,  0.99678624,  1.2909813 ,\n",
       "        0.6770458 ,  0.6669227 , -1.3758028 ,  0.90344924, -0.1543774 ],\n",
       "      dtype=float32)"
      ]
     },
     "execution_count": 18,
     "metadata": {},
     "output_type": "execute_result"
    }
   ],
   "source": [
    "model.wv[\"gönül\"]"
   ]
  },
  {
   "cell_type": "code",
   "execution_count": null,
   "metadata": {},
   "outputs": [],
   "source": []
  }
 ],
 "metadata": {
  "kernelspec": {
   "display_name": "Python 3",
   "language": "python",
   "name": "python3"
  },
  "language_info": {
   "codemirror_mode": {
    "name": "ipython",
    "version": 3
   },
   "file_extension": ".py",
   "mimetype": "text/x-python",
   "name": "python",
   "nbconvert_exporter": "python",
   "pygments_lexer": "ipython3",
   "version": "3.10.10"
  },
  "orig_nbformat": 4,
  "vscode": {
   "interpreter": {
    "hash": "cccf58110e78881b05b784bd7baf1ae6021f67a20806dca348d3f3ea30b3f81b"
   }
  }
 },
 "nbformat": 4,
 "nbformat_minor": 2
}
